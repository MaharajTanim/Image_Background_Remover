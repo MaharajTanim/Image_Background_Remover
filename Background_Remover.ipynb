{
  "nbformat": 4,
  "nbformat_minor": 0,
  "metadata": {
    "colab": {
      "provenance": []
    },
    "kernelspec": {
      "name": "python3",
      "display_name": "Python 3"
    },
    "language_info": {
      "name": "python"
    }
  },
  "cells": [
    {
      "cell_type": "code",
      "execution_count": null,
      "metadata": {
        "id": "iy6Ixf2EZyQ-"
      },
      "outputs": [],
      "source": [
        "!pip install rembg pillow\n",
        "!pip install onnxruntime rembg pillow"
      ]
    },
    {
      "cell_type": "code",
      "source": [
        "from google.colab import files\n",
        "uploaded = files.upload()\n"
      ],
      "metadata": {
        "id": "giPME7S3Z8yD"
      },
      "execution_count": null,
      "outputs": []
    },
    {
      "cell_type": "code",
      "source": [
        "from rembg import remove\n",
        "from PIL import Image\n",
        "import io\n",
        "\n",
        "# Get the uploaded file name\n",
        "input_filename = next(iter(uploaded))\n",
        "\n",
        "# Open the image\n",
        "input_image = Image.open(input_filename)\n",
        "\n",
        "# Remove background\n",
        "output_image = remove(input_image)\n",
        "\n",
        "# Save output image\n",
        "output_filename = 'output.png'\n",
        "output_image.save(output_filename)\n",
        "\n",
        "print(\"✅ Background removed and saved as\", output_filename)"
      ],
      "metadata": {
        "id": "Y71s_SphZ-7K"
      },
      "execution_count": null,
      "outputs": []
    },
    {
      "cell_type": "code",
      "source": [
        "files.download('output.png')"
      ],
      "metadata": {
        "id": "f0dXQcwhaGpT"
      },
      "execution_count": null,
      "outputs": []
    }
  ]
}